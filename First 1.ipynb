{
 "cells": [
  {
   "cell_type": "code",
   "execution_count": 1,
   "metadata": {},
   "outputs": [
    {
     "name": "stdout",
     "output_type": "stream",
     "text": [
      "Hello Tony Bona19999612\n",
      "Another Hello Tony Bona19999612\n"
     ]
    }
   ],
   "source": [
    "print(\"Hello Tony Bona19999612\")\n",
    "print(\"Another Hello Tony Bona19999612\")"
   ]
  },
  {
   "cell_type": "code",
   "execution_count": 1,
   "metadata": {},
   "outputs": [
    {
     "name": "stdout",
     "output_type": "stream",
     "text": [
      "hey now1\n",
      "hey now1\n",
      "hey now1\n",
      "hey now1\n",
      "hey now1\n",
      "hey now1\n",
      "hey now1\n",
      "hey now1\n"
     ]
    }
   ],
   "source": [
    "print(\"hey now1\")\n",
    "print(\"hey now1\")\n",
    "\n",
    "print(\"hey now1\")\n",
    "print(\"hey now1\")\n",
    "print(\"hey now1\")\n",
    "print(\"hey now1\")\n",
    "print(\"hey now1\")"
   ]
  },
  {
   "cell_type": "code",
   "execution_count": 2,
   "metadata": {},
   "outputs": [
    {
     "name": "stdout",
     "output_type": "stream",
     "text": [
      "40\n"
     ]
    }
   ],
   "source": [
    "print((1+4)*8)\n"
   ]
  }
 ],
 "metadata": {
  "kernelspec": {
   "display_name": "Python 3",
   "language": "python",
   "name": "python3"
  },
  "language_info": {
   "codemirror_mode": {
    "name": "ipython",
    "version": 3
   },
   "file_extension": ".py",
   "mimetype": "text/x-python",
   "name": "python",
   "nbconvert_exporter": "python",
   "pygments_lexer": "ipython3",
   "version": "3.11.8"
  },
  "orig_nbformat": 4
 },
 "nbformat": 4,
 "nbformat_minor": 2
}
